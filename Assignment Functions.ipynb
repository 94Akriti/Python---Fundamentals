{
 "cells": [
  {
   "cell_type": "markdown",
   "id": "3bdf1caf",
   "metadata": {},
   "source": [
    "Fahrenheit to Celsius Function\n",
    "Send Feedback\n",
    "Given three values - Start Fahrenheit Value (S), End Fahrenheit value (E) and Step Size (W), you need to convert all Fahrenheit values from Start to End at the gap of W, into their corresponding Celsius values and print the table.\n",
    "Input Format :\n",
    "3 integers - S, E and W respectively\n",
    "Output Format :\n",
    "Fahrenheit to Celsius conversion table. One line for every Fahrenheit and Celsius Fahrenheit value. Fahrenheit value and its corresponding Celsius value should be separate by tab (\"\\t\")\n",
    "Constraints :\n",
    "0 <= S <= 1000\n",
    "0 <= E <= 1000\n",
    "0 <= W <= 1000\n",
    "Sample Input 1:\n",
    "0 \n",
    "100 \n",
    "20\n",
    "Sample Output 1:\n",
    "0   -17\n",
    "20  -6\n",
    "40  4\n",
    "60  15\n",
    "80  26\n",
    "100 37\n",
    "Sample Input 2:\n",
    "120 \n",
    "200 \n",
    "40\n",
    "Sample Output 2:\n",
    "120 48\n",
    "160 71\n",
    "200 93\n",
    "Explanation for Sample Output 2 :\n",
    "Start value is 120, end value is 200 and step size is 40. Therefore, the values we need to convert are 120, 120 + 40 = 160, and 160 + 40 = 200. \n",
    "The formula for converting Fahrenheit to Celsius is:\n",
    "Celsius Value = (5/9)*(Fahrenheit Value - 32)  \n",
    "Plugging 120 into the formula, the celsius value will be (5 / 9)*(120 - 32) => (5 / 9) * 88 => (5 * 88) / 9 => 440 / 9 => 48.88\n",
    "But we'll only print 48 because we are only interested in the integral part of the value."
   ]
  },
  {
   "cell_type": "code",
   "execution_count": 1,
   "id": "60c6aef3",
   "metadata": {},
   "outputs": [
    {
     "name": "stdout",
     "output_type": "stream",
     "text": [
      "0\n",
      "100\n",
      "20\n",
      "0 -17\n",
      "20 -6\n",
      "40 4\n",
      "60 15\n",
      "80 26\n",
      "100 37\n"
     ]
    }
   ],
   "source": [
    "s=int(input())\n",
    "e=int(input())\n",
    "w=int(input())\n",
    "while True:\n",
    "    c=0\n",
    "    if s<=e:\n",
    "        c=(s-32)*5/9\n",
    "        print(s,int(c))\n",
    "        s = s + w\n",
    "\n",
    "    else:break"
   ]
  },
  {
   "cell_type": "markdown",
   "id": "ba44ebe9",
   "metadata": {},
   "source": [
    "Fibonacci Member\n",
    "Send Feedback\n",
    "Given a number N, figure out if it is a member of fibonacci series or not. Return true if the number is member of fibonacci series else false.\n",
    "Fibonacci Series is defined by the recurrence\n",
    "    F(n) = F(n-1) + F(n-2)\n",
    "where F(0) = 0 and F(1) = 1\n",
    "\n",
    "\n",
    "Input Format :\n",
    "Integer N\n",
    "Output Format :\n",
    "true or false\n",
    "Constraints :\n",
    "0 <= n <= 10^4\n",
    "Sample Input 1 :\n",
    "5\n",
    "Sample Output 1 :\n",
    "true\n",
    "Sample Input 2 :\n",
    "14\n",
    "Sample Output 2 :\n",
    "false    "
   ]
  },
  {
   "cell_type": "code",
   "execution_count": 2,
   "id": "51058004",
   "metadata": {},
   "outputs": [
    {
     "name": "stdout",
     "output_type": "stream",
     "text": [
      "5\n",
      "true\n"
     ]
    }
   ],
   "source": [
    "N = int(input())\n",
    " \n",
    "# variables for generating fibonacci sequence\n",
    "f3 = 0\n",
    "f1 = 1\n",
    "f2 = 1\n",
    "# 0 and 1 both are fibonacci numbers\n",
    "if (N == 0 or N == 1):\n",
    "    print(\"true\")\n",
    " \n",
    "else:\n",
    "    # generating the fibonacci numbers until the generated number is less than  N\n",
    "    while f3 < N:\n",
    "        f3 = f1 + f2\n",
    "        f2 = f1\n",
    "        f1 = f3\n",
    "    if f3 == N:\n",
    "        print(\"true\")\n",
    "    else:\n",
    "        print(\"false\")"
   ]
  },
  {
   "cell_type": "markdown",
   "id": "7d0f2fea",
   "metadata": {},
   "source": [
    "Palindrome number\n",
    "\n",
    "Write a program to determine if given number is palindrome or not. Print true if it is palindrome, false otherwise.\n",
    "Palindrome are the numbers for which reverse is exactly same as the original one. For eg. 121\n",
    "Sample Input 1 :\n",
    "121\n",
    "Sample Output 1 :\n",
    "true\n",
    "Sample Input 2 :\n",
    "1032\n",
    "Sample Output 2 :\n",
    "false"
   ]
  },
  {
   "cell_type": "code",
   "execution_count": 3,
   "id": "d3c38509",
   "metadata": {},
   "outputs": [
    {
     "name": "stdout",
     "output_type": "stream",
     "text": [
      "121\n",
      "true\n"
     ]
    }
   ],
   "source": [
    "def checkPalindrome(num):\n",
    "    divisor = 1\n",
    "    while(num / divisor >= 10):\n",
    "        divisor *= 10\n",
    "    while(num != 0):\n",
    "        lead = num // divisor\n",
    "        trail = num % 10\n",
    "        if(lead != trail):\n",
    "            return False\n",
    "        num = (num % divisor)//10\n",
    "        divisor = divisor/100\n",
    "    return True\n",
    "num = int(input())\n",
    "isPalindrome = checkPalindrome(num)\n",
    "if(isPalindrome):\n",
    "\tprint('true')\n",
    "else:\n",
    "\tprint('false')\n"
   ]
  },
  {
   "cell_type": "markdown",
   "id": "b96173cc",
   "metadata": {},
   "source": [
    "Check Armstrong\n",
    "\n",
    "Write a Program to determine if the given number is Armstrong number or not. Print true if number is armstrong, otherwise print false.\n",
    "An Armstrong number is a number (with digits n) such that the sum of its digits raised to nth power is equal to the number itself.\n",
    "For example,\n",
    "371, as 3^3 + 7^3 + 1^3 = 371\n",
    "1634, as 1^4 + 6^4 + 3^4 + 4^4 = 1634\n",
    "Input Format :\n",
    "Integer n\n",
    "Output Format :\n",
    "true or false\n",
    "Sample Input 1 :\n",
    "1\n",
    "Sample Output 1 :\n",
    "true\n",
    "Sample Input 2 :\n",
    "103\n",
    "Sample Output 2 :\n",
    "false"
   ]
  },
  {
   "cell_type": "code",
   "execution_count": 4,
   "id": "148ae566",
   "metadata": {},
   "outputs": [
    {
     "name": "stdout",
     "output_type": "stream",
     "text": [
      "1\n",
      "true\n"
     ]
    }
   ],
   "source": [
    "# Python program to check if the number is an Armstrong number or not\n",
    "\n",
    "# take input from the user\n",
    "num = int(input())\n",
    "\n",
    "# initialize sum\n",
    "sum = 0\n",
    "\n",
    "# find the sum of the cube of each digit\n",
    "temp = num\n",
    "while temp > 0:\n",
    "   digit = temp % 10\n",
    "   sum += digit ** 3\n",
    "   temp //= 10\n",
    "\n",
    "# display the result\n",
    "if num == sum:\n",
    "   print(\"true\")\n",
    "else:\n",
    "   print(\"false\")"
   ]
  }
 ],
 "metadata": {
  "kernelspec": {
   "display_name": "Python 3",
   "language": "python",
   "name": "python3"
  },
  "language_info": {
   "codemirror_mode": {
    "name": "ipython",
    "version": 3
   },
   "file_extension": ".py",
   "mimetype": "text/x-python",
   "name": "python",
   "nbconvert_exporter": "python",
   "pygments_lexer": "ipython3",
   "version": "3.8.8"
  }
 },
 "nbformat": 4,
 "nbformat_minor": 5
}
