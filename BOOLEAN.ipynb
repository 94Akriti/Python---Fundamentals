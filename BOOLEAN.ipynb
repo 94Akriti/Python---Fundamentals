{
 "cells": [
  {
   "cell_type": "code",
   "execution_count": 2,
   "id": "20178d13",
   "metadata": {},
   "outputs": [
    {
     "data": {
      "text/plain": [
       "bool"
      ]
     },
     "execution_count": 2,
     "metadata": {},
     "output_type": "execute_result"
    }
   ],
   "source": [
    "a =True\n",
    "b=False\n",
    "c=\"python\"\n",
    "type(a)"
   ]
  },
  {
   "cell_type": "markdown",
   "id": "fb41d643",
   "metadata": {},
   "source": [
    "### Relational Operators"
   ]
  },
  {
   "cell_type": "code",
   "execution_count": 4,
   "id": "f15fcfe8",
   "metadata": {},
   "outputs": [
    {
     "name": "stdout",
     "output_type": "stream",
     "text": [
      "False\n",
      "True\n",
      "False\n",
      "True\n",
      "False\n",
      "True\n"
     ]
    }
   ],
   "source": [
    "a=10\n",
    "b=20\n",
    "print(a>b)\n",
    "print(a<b)\n",
    "print(a>=b)\n",
    "print(a<=b)\n",
    "print(a==b)\n",
    "print(a!=b)"
   ]
  },
  {
   "cell_type": "markdown",
   "id": "9bfcc6dd",
   "metadata": {},
   "source": [
    "### Logical Operators"
   ]
  },
  {
   "cell_type": "code",
   "execution_count": 7,
   "id": "e26a2047",
   "metadata": {},
   "outputs": [
    {
     "name": "stdout",
     "output_type": "stream",
     "text": [
      "False\n",
      "True\n"
     ]
    }
   ],
   "source": [
    "c1 = a>10\n",
    "c2=b>10\n",
    "res1=c1 and c2\n",
    "res2=c1 or c2\n",
    "print(res1)\n",
    "print(res2)"
   ]
  },
  {
   "cell_type": "markdown",
   "id": "268bf9c6",
   "metadata": {},
   "source": [
    "### If Else"
   ]
  },
  {
   "cell_type": "code",
   "execution_count": 14,
   "id": "a1954c8d",
   "metadata": {},
   "outputs": [
    {
     "name": "stdout",
     "output_type": "stream",
     "text": [
      "inside if\n"
     ]
    }
   ],
   "source": [
    "a=True\n",
    "b=False\n",
    "if a or b:\n",
    "    print(\"inside if\")\n",
    "elif a and b:\n",
    "    print(\"inside else if\")\n",
    "else:\n",
    "    print(\"inside else\")"
   ]
  },
  {
   "cell_type": "markdown",
   "id": "b0406d0c",
   "metadata": {},
   "source": [
    "### Check Even or odd"
   ]
  },
  {
   "cell_type": "code",
   "execution_count": 18,
   "id": "b2844cca",
   "metadata": {},
   "outputs": [
    {
     "name": "stdout",
     "output_type": "stream",
     "text": [
      "4\n",
      "n is even\n",
      "\n",
      "2nd method\n",
      "n is even\n"
     ]
    }
   ],
   "source": [
    "n=int(input())\n",
    "r=n%2\n",
    "isEven = (r==0)\n",
    "if isEven:\n",
    "    print(\"n is even\")\n",
    "else:\n",
    "    print(\"n is odd\")\n",
    "\n",
    "#2nd method\n",
    "print(\"\\n2nd method\")\n",
    "if n%2==0:\n",
    "    print(\"n is even\")\n"
   ]
  },
  {
   "cell_type": "markdown",
   "id": "eea30342",
   "metadata": {},
   "source": [
    "### Using operators in if else"
   ]
  },
  {
   "cell_type": "code",
   "execution_count": 19,
   "id": "ea385b4e",
   "metadata": {},
   "outputs": [
    {
     "name": "stdout",
     "output_type": "stream",
     "text": [
      "12\n",
      "44\n",
      "both >10\n"
     ]
    }
   ],
   "source": [
    "a= int(input())\n",
    "b=int(input())\n",
    "\n",
    "c1=a>10\n",
    "c2=b>10\n",
    "\n",
    "if c1 and c2:\n",
    "    print(\"both >10\")\n",
    "else:\n",
    "    print(\"bot not >10\")"
   ]
  },
  {
   "cell_type": "code",
   "execution_count": 20,
   "id": "c5bd1424",
   "metadata": {},
   "outputs": [
    {
     "name": "stdout",
     "output_type": "stream",
     "text": [
      "7\n",
      "a is 7\n"
     ]
    }
   ],
   "source": [
    "a=int(input())\n",
    "if a!=7:\n",
    "    print(\"no its not =7\")\n",
    "else:\n",
    "    print(\"a is 7\")"
   ]
  },
  {
   "cell_type": "markdown",
   "id": "5de26828",
   "metadata": {},
   "source": [
    "### Elif"
   ]
  },
  {
   "cell_type": "code",
   "execution_count": 23,
   "id": "edd32456",
   "metadata": {},
   "outputs": [
    {
     "name": "stdout",
     "output_type": "stream",
     "text": [
      "3\n",
      "3\n",
      "1\n",
      "a\n"
     ]
    }
   ],
   "source": [
    "a=int(input())\n",
    "b=int(input())\n",
    "c=int(input())\n",
    "\n",
    "if a>=b and a>=c:\n",
    "    print('a')\n",
    "elif b>=a and b>=c:\n",
    "    print('b')\n",
    "else:\n",
    "    print('c')"
   ]
  },
  {
   "cell_type": "code",
   "execution_count": 28,
   "id": "b61f01f3",
   "metadata": {
    "scrolled": true
   },
   "outputs": [
    {
     "name": "stdout",
     "output_type": "stream",
     "text": [
      "70\n",
      "red\n"
     ]
    }
   ],
   "source": [
    "# Right code .... if executes in order\n",
    "n=int(input())\n",
    "if n>10:\n",
    "    print(\"red\")\n",
    "elif n>=5:\n",
    "    print(\"green\")\n",
    "elif n>0:\n",
    "    print(\"yellow\")\n",
    "else:\n",
    "    print(\"blue\")"
   ]
  },
  {
   "cell_type": "code",
   "execution_count": 29,
   "id": "90562258",
   "metadata": {},
   "outputs": [
    {
     "name": "stdout",
     "output_type": "stream",
     "text": [
      "40\n",
      "green\n"
     ]
    }
   ],
   "source": [
    "# Wrong code .... if executes in order and here we have wrong order\n",
    "n=int(input())\n",
    "if n>=5:\n",
    "    print(\"green\")\n",
    "elif n>10:\n",
    "    print(\"red\")\n",
    "elif n>0:\n",
    "    print(\"yellow\")\n",
    "else:\n",
    "    print(\"blue\")"
   ]
  },
  {
   "cell_type": "markdown",
   "id": "804d4394",
   "metadata": {},
   "source": [
    "### Nested If Else"
   ]
  },
  {
   "cell_type": "code",
   "execution_count": 31,
   "id": "18a9d1b2",
   "metadata": {},
   "outputs": [
    {
     "name": "stdout",
     "output_type": "stream",
     "text": [
      "0\n",
      "n is even\n",
      "n is zero\n"
     ]
    }
   ],
   "source": [
    "n= int(input())\n",
    "\n",
    "if n % 2 == 0:\n",
    "    print(\"n is even\")\n",
    "    if n == 0:\n",
    "        print(\"n is zero\")\n",
    "else:\n",
    "    print(\"n is odd\")"
   ]
  },
  {
   "cell_type": "code",
   "execution_count": 32,
   "id": "653b8fec",
   "metadata": {},
   "outputs": [
    {
     "name": "stdout",
     "output_type": "stream",
     "text": [
      "2\n",
      "1\n",
      "2\n"
     ]
    }
   ],
   "source": [
    "n= int(input())\n",
    "m = int(input())\n",
    "\n",
    "if n % 2 == 0:\n",
    "    if m % 2 == 0:\n",
    "        print(1)\n",
    "    else:\n",
    "        print(2)\n",
    "else:\n",
    "    print(3)"
   ]
  },
  {
   "cell_type": "code",
   "execution_count": 41,
   "id": "c95ef898",
   "metadata": {},
   "outputs": [
    {
     "name": "stdout",
     "output_type": "stream",
     "text": [
      "2\n"
     ]
    }
   ],
   "source": [
    "if False and True or False:\n",
    "    print(1)\n",
    "else:\n",
    "    print(2)"
   ]
  }
 ],
 "metadata": {
  "kernelspec": {
   "display_name": "Python 3",
   "language": "python",
   "name": "python3"
  },
  "language_info": {
   "codemirror_mode": {
    "name": "ipython",
    "version": 3
   },
   "file_extension": ".py",
   "mimetype": "text/x-python",
   "name": "python",
   "nbconvert_exporter": "python",
   "pygments_lexer": "ipython3",
   "version": "3.8.8"
  }
 },
 "nbformat": 4,
 "nbformat_minor": 5
}
