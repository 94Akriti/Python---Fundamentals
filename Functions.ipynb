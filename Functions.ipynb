{
 "cells": [
  {
   "cell_type": "code",
   "execution_count": 3,
   "id": "e657bba7",
   "metadata": {},
   "outputs": [
    {
     "name": "stdout",
     "output_type": "stream",
     "text": [
      "4\n",
      "2\n",
      "6\n"
     ]
    }
   ],
   "source": [
    "n = int(input())\n",
    "r = int(input())\n",
    "\n",
    "n_fact = 1\n",
    "for i in range(1,n + 1):\n",
    "    n_fact *= i\n",
    "\n",
    "r_fact = 1\n",
    "for i in range(1, r + 1):\n",
    "    r_fact *= i\n",
    "\n",
    "n_r_fact = 1\n",
    "for i in range(1, n - r + 1):\n",
    "    n_r_fact *= i\n",
    "\n",
    "ans = n_fact//(r_fact * n_r_fact)\n",
    "print(ans)"
   ]
  },
  {
   "cell_type": "markdown",
   "id": "edccfb1b",
   "metadata": {},
   "source": [
    "### Use of function: Avoid repetation, makes code improve testability and readablity"
   ]
  },
  {
   "cell_type": "code",
   "execution_count": 4,
   "id": "28f3a25b",
   "metadata": {},
   "outputs": [],
   "source": [
    "def fact(n):\n",
    "    n_fact = 1\n",
    "    for i in range(1,n + 1):\n",
    "        n_fact *= i\n",
    "    return n_fact"
   ]
  },
  {
   "cell_type": "code",
   "execution_count": 5,
   "id": "772e33ab",
   "metadata": {},
   "outputs": [
    {
     "data": {
      "text/plain": [
       "24"
      ]
     },
     "execution_count": 5,
     "metadata": {},
     "output_type": "execute_result"
    }
   ],
   "source": [
    "fact(4)"
   ]
  },
  {
   "cell_type": "code",
   "execution_count": 6,
   "id": "7b5de4d4",
   "metadata": {},
   "outputs": [
    {
     "data": {
      "text/plain": [
       "24"
      ]
     },
     "execution_count": 6,
     "metadata": {},
     "output_type": "execute_result"
    }
   ],
   "source": [
    "a = fact(4)\n",
    "a"
   ]
  },
  {
   "cell_type": "code",
   "execution_count": 7,
   "id": "fe2d02b4",
   "metadata": {},
   "outputs": [
    {
     "name": "stdout",
     "output_type": "stream",
     "text": [
      "4\n",
      "2\n",
      "6\n"
     ]
    }
   ],
   "source": [
    "n = int(input())\n",
    "r = int(input())\n",
    "\n",
    "n_fact = fact(n)\n",
    "r_fact = fact(r)\n",
    "ans = n_fact//(r_fact * n_r_fact)\n",
    "print(ans)"
   ]
  },
  {
   "cell_type": "code",
   "execution_count": 9,
   "id": "87699547",
   "metadata": {},
   "outputs": [
    {
     "name": "stdout",
     "output_type": "stream",
     "text": [
      "4\n"
     ]
    },
    {
     "data": {
      "text/plain": [
       "False"
      ]
     },
     "execution_count": 9,
     "metadata": {},
     "output_type": "execute_result"
    }
   ],
   "source": [
    "def isPrime(n):\n",
    "    for d in range(2,n):\n",
    "        if(n % d == 0):\n",
    "            break\n",
    "    else:\n",
    "        return True\n",
    "    \n",
    "    return False\n",
    "\n",
    "n = int(input())\n",
    "isPrime(n)"
   ]
  },
  {
   "cell_type": "code",
   "execution_count": 10,
   "id": "4d602c7b",
   "metadata": {},
   "outputs": [
    {
     "name": "stdout",
     "output_type": "stream",
     "text": [
      "2\n",
      "3\n",
      "5\n",
      "7\n"
     ]
    }
   ],
   "source": [
    "#Print all prime numbers from 2 to N\n",
    "\n",
    "def primeFrom2ToN(n):\n",
    "    for k in range(2, n + 1):\n",
    "        is_k_prime = isPrime(k)\n",
    "        if(is_k_prime):\n",
    "            print(k)\n",
    "\n",
    "primeFrom2ToN(10)"
   ]
  },
  {
   "cell_type": "code",
   "execution_count": 11,
   "id": "5a1668dd",
   "metadata": {},
   "outputs": [
    {
     "name": "stdout",
     "output_type": "stream",
     "text": [
      "4\n",
      "2\n"
     ]
    },
    {
     "data": {
      "text/plain": [
       "6"
      ]
     },
     "execution_count": 11,
     "metadata": {},
     "output_type": "execute_result"
    }
   ],
   "source": [
    "def ncr(n, r):\n",
    "\n",
    "    n_fact = fact(n)\n",
    "    r_fact = fact(r)\n",
    "    ans = n_fact//(r_fact * n_r_fact)\n",
    "    return ans\n",
    "\n",
    "n = int(input())\n",
    "r = int(input())\n",
    "\n",
    "ncr(n, r)"
   ]
  },
  {
   "cell_type": "markdown",
   "id": "e7ccce8b",
   "metadata": {},
   "source": [
    "# MCQS"
   ]
  },
  {
   "cell_type": "markdown",
   "id": "713ab9e5",
   "metadata": {},
   "source": [
    "Predict the Output\n",
    "Send Feedback\n",
    "What will be the output of following code?"
   ]
  },
  {
   "cell_type": "code",
   "execution_count": 12,
   "id": "2e6455d1",
   "metadata": {},
   "outputs": [
    {
     "name": "stdout",
     "output_type": "stream",
     "text": [
      "5\n"
     ]
    }
   ],
   "source": [
    "def func(a):\n",
    "    a = a + 10\n",
    "    return a\n",
    "a = 5\n",
    "func(a)\n",
    "print(a)"
   ]
  },
  {
   "cell_type": "markdown",
   "id": "701008d3",
   "metadata": {},
   "source": [
    "Predict the Output\n",
    "Send Feedback\n",
    "What will be the output of following code?"
   ]
  },
  {
   "cell_type": "code",
   "execution_count": 13,
   "id": "0827b411",
   "metadata": {},
   "outputs": [
    {
     "name": "stdout",
     "output_type": "stream",
     "text": [
      "16\n"
     ]
    }
   ],
   "source": [
    "def square(a):\n",
    "    ans  = a*a\n",
    "    return  ans\n",
    "\n",
    "a = 4\n",
    "a = square(a)\n",
    "print(a)"
   ]
  },
  {
   "cell_type": "code",
   "execution_count": null,
   "id": "3822d830",
   "metadata": {},
   "outputs": [],
   "source": []
  }
 ],
 "metadata": {
  "kernelspec": {
   "display_name": "Python 3",
   "language": "python",
   "name": "python3"
  },
  "language_info": {
   "codemirror_mode": {
    "name": "ipython",
    "version": 3
   },
   "file_extension": ".py",
   "mimetype": "text/x-python",
   "name": "python",
   "nbconvert_exporter": "python",
   "pygments_lexer": "ipython3",
   "version": "3.8.8"
  }
 },
 "nbformat": 4,
 "nbformat_minor": 5
}
