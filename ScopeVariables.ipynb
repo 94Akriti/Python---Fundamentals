{
 "cells": [
  {
   "cell_type": "code",
   "execution_count": 1,
   "id": "436eae52",
   "metadata": {},
   "outputs": [
    {
     "name": "stdout",
     "output_type": "stream",
     "text": [
      "10\n",
      "12\n"
     ]
    }
   ],
   "source": [
    "a1 = 10 # global variable\n",
    "def f1():\n",
    "    b1 = 12 # local variable\n",
    "    print(b1)\n",
    "print(a1)\n",
    "f1()\n",
    "# cannot print locall variable outside the function --- print(b1)"
   ]
  },
  {
   "cell_type": "code",
   "execution_count": 2,
   "id": "43425e93",
   "metadata": {},
   "outputs": [
    {
     "name": "stdout",
     "output_type": "stream",
     "text": [
      "10\n",
      "12\n",
      "10\n"
     ]
    }
   ],
   "source": [
    "a2 = 10 # global variable\n",
    "def f2():\n",
    "    b2 = 12 # local variable\n",
    "    print(b2)\n",
    "    print(a2)\n",
    "print(a2)\n",
    "f2()"
   ]
  },
  {
   "cell_type": "code",
   "execution_count": 3,
   "id": "a418cddb",
   "metadata": {},
   "outputs": [
    {
     "name": "stdout",
     "output_type": "stream",
     "text": [
      "10\n",
      "12\n",
      "10\n"
     ]
    }
   ],
   "source": [
    "# we can access any global variable defined b4 the function call\n",
    "def f3():\n",
    "    b3 = 12 # local variable\n",
    "    print(b3)\n",
    "    print(a3)\n",
    "    #print(c3)\n",
    "    \n",
    "a3 = 10 # global variable\n",
    "print(a3)\n",
    "f3()\n",
    "c3 = 20"
   ]
  },
  {
   "cell_type": "code",
   "execution_count": 5,
   "id": "023f9e87",
   "metadata": {
    "scrolled": true
   },
   "outputs": [
    {
     "name": "stdout",
     "output_type": "stream",
     "text": [
      "13\n",
      "12\n",
      "140706529028240\n",
      "12\n",
      "140706529028240\n"
     ]
    }
   ],
   "source": [
    "a4 = 13\n",
    "def f4():\n",
    "    global a4 #cannot convert global variable directly so use the global keyword\n",
    "    a4 = 12 \n",
    "    print(a4)\n",
    "    print(id(a4))\n",
    "print(a4)\n",
    "f4()\n",
    "print(a4)\n",
    "print(id(a4))"
   ]
  },
  {
   "cell_type": "markdown",
   "id": "a56350cf",
   "metadata": {},
   "source": [
    "\n",
    "# MCQs"
   ]
  },
  {
   "cell_type": "markdown",
   "id": "99553e5f",
   "metadata": {},
   "source": [
    "Predict the Output\n",
    "\n",
    "What will be the output of following code?\n",
    "\n",
    "a = 14\n",
    "def f():\n",
    "    a=12\n",
    "f()\n",
    "print(a)\n",
    "\n",
    "Options\n",
    "12\n",
    "14\n",
    "a is not defined\n",
    "None of the above"
   ]
  },
  {
   "cell_type": "code",
   "execution_count": 6,
   "id": "6d94761a",
   "metadata": {},
   "outputs": [
    {
     "name": "stdout",
     "output_type": "stream",
     "text": [
      "14\n"
     ]
    }
   ],
   "source": [
    "a = 14\n",
    "def f():\n",
    "    a=12\n",
    "f()\n",
    "print(a)"
   ]
  },
  {
   "cell_type": "markdown",
   "id": "42662e66",
   "metadata": {},
   "source": [
    "Predict the Output\n",
    "\n",
    "What will be the output of following code?\n",
    "a=14\n",
    "def f():\n",
    "    global a\n",
    "    a=12\n",
    "f()\n",
    "print(a)\n",
    "Options\n",
    "12\n",
    "14\n",
    "a is not defined\n",
    "None of the above"
   ]
  },
  {
   "cell_type": "code",
   "execution_count": 7,
   "id": "bf80d38a",
   "metadata": {},
   "outputs": [
    {
     "name": "stdout",
     "output_type": "stream",
     "text": [
      "12\n"
     ]
    }
   ],
   "source": [
    "a=14\n",
    "def f():\n",
    "    global a\n",
    "    a=12\n",
    "f()\n",
    "print(a)"
   ]
  },
  {
   "cell_type": "markdown",
   "id": "d623652b",
   "metadata": {},
   "source": [
    "Predict the Output\n",
    "\n",
    "What will be the output of following code?\n",
    "a = 14\n",
    "def f():\n",
    "    a = 12\n",
    "    return a\n",
    "a = f()\n",
    "print(a)\n",
    "Options\n",
    "12\n",
    "14\n",
    "a is not defined\n",
    "None of them"
   ]
  },
  {
   "cell_type": "code",
   "execution_count": 8,
   "id": "2f316c6e",
   "metadata": {},
   "outputs": [
    {
     "name": "stdout",
     "output_type": "stream",
     "text": [
      "12\n"
     ]
    }
   ],
   "source": [
    "a = 14\n",
    "def f():\n",
    "    a = 12\n",
    "    return a\n",
    "a = f()\n",
    "print(a)"
   ]
  },
  {
   "cell_type": "code",
   "execution_count": null,
   "id": "9ea75ace",
   "metadata": {},
   "outputs": [],
   "source": []
  }
 ],
 "metadata": {
  "kernelspec": {
   "display_name": "Python 3",
   "language": "python",
   "name": "python3"
  },
  "language_info": {
   "codemirror_mode": {
    "name": "ipython",
    "version": 3
   },
   "file_extension": ".py",
   "mimetype": "text/x-python",
   "name": "python",
   "nbconvert_exporter": "python",
   "pygments_lexer": "ipython3",
   "version": "3.8.8"
  }
 },
 "nbformat": 4,
 "nbformat_minor": 5
}
