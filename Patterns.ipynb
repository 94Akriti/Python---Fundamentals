{
 "cells": [
  {
   "cell_type": "markdown",
   "id": "7854b649",
   "metadata": {},
   "source": [
    "## Patterns"
   ]
  },
  {
   "cell_type": "markdown",
   "id": "d712ba2b",
   "metadata": {},
   "source": [
    "****\n",
    "****\n",
    "****\n",
    "****"
   ]
  },
  {
   "cell_type": "code",
   "execution_count": 9,
   "id": "17093f68",
   "metadata": {},
   "outputs": [
    {
     "name": "stdout",
     "output_type": "stream",
     "text": [
      "1\n",
      "*\n"
     ]
    }
   ],
   "source": [
    "n = int(input())\n",
    "i = 1\n",
    "while i <= n:\n",
    "    j  = 1\n",
    "    while j <=n:\n",
    "        #print jth column\n",
    "        print('*', end='')\n",
    "        j = j + 1\n",
    "    print()\n",
    "    i = i + 1\n",
    "    "
   ]
  },
  {
   "cell_type": "code",
   "execution_count": 10,
   "id": "ba740b97",
   "metadata": {},
   "outputs": [
    {
     "name": "stdout",
     "output_type": "stream",
     "text": [
      "4\n",
      "1111\n",
      "2222\n",
      "3333\n",
      "4444\n"
     ]
    }
   ],
   "source": [
    "n = int(input())\n",
    "i = 1\n",
    "while i <= n:\n",
    "    j = 1\n",
    "    while j <=n:\n",
    "        print(i,end='')\n",
    "        j += 1\n",
    "    print()\n",
    "    i += 1 "
   ]
  },
  {
   "cell_type": "markdown",
   "id": "50136951",
   "metadata": {},
   "source": [
    "## SQUARE PATTERNS"
   ]
  },
  {
   "cell_type": "markdown",
   "id": "5ef1e637",
   "metadata": {},
   "source": [
    "1234\n",
    "\n",
    "1234\n",
    "\n",
    "1234\n",
    "\n",
    "1234"
   ]
  },
  {
   "cell_type": "code",
   "execution_count": 15,
   "id": "fc8e765e",
   "metadata": {},
   "outputs": [
    {
     "name": "stdout",
     "output_type": "stream",
     "text": [
      "4\n",
      "output:\n",
      "\n",
      "1234\n",
      "\n",
      "1234\n",
      "\n",
      "1234\n",
      "\n",
      "1234\n",
      "\n"
     ]
    }
   ],
   "source": [
    "n = int(input())\n",
    "i = 1\n",
    "print(\"output:\")\n",
    "print()\n",
    "while i <= n:\n",
    "    j = 1\n",
    "    while j <= n:\n",
    "        print(j,end='')\n",
    "        j += 1\n",
    "    print()\n",
    "    print()\n",
    "    i += 1"
   ]
  },
  {
   "cell_type": "markdown",
   "id": "c448765d",
   "metadata": {},
   "source": [
    "4321\n",
    "4321\n",
    "4321\n",
    "4321"
   ]
  },
  {
   "cell_type": "code",
   "execution_count": 17,
   "id": "47a1b598",
   "metadata": {},
   "outputs": [
    {
     "name": "stdout",
     "output_type": "stream",
     "text": [
      "4\n",
      "output:\n",
      "\n",
      "4321\n",
      "4321\n",
      "4321\n",
      "4321\n"
     ]
    }
   ],
   "source": [
    "n = int(input())\n",
    "i = 1\n",
    "print(\"output:\")\n",
    "print()\n",
    "while i <= n:\n",
    "    j = 1\n",
    "    while j <= n:\n",
    "        print(n-j+1,end='')\n",
    "        j += 1\n",
    "    print()\n",
    "    i += 1"
   ]
  },
  {
   "cell_type": "markdown",
   "id": "55d62b70",
   "metadata": {},
   "source": [
    "1\n",
    "12\n",
    "123\n",
    "1234"
   ]
  },
  {
   "cell_type": "code",
   "execution_count": 18,
   "id": "cd0f079c",
   "metadata": {
    "scrolled": true
   },
   "outputs": [
    {
     "name": "stdout",
     "output_type": "stream",
     "text": [
      "4\n",
      "1\n",
      "12\n",
      "123\n",
      "1234\n"
     ]
    }
   ],
   "source": [
    "n = int(input())\n",
    "i = 1\n",
    "while i <= n:\n",
    "    j = 1\n",
    "    while j <=i:\n",
    "        print(j,end='')\n",
    "        j += 1\n",
    "    print()\n",
    "    i += 1"
   ]
  },
  {
   "cell_type": "markdown",
   "id": "86663c16",
   "metadata": {},
   "source": [
    "1\n",
    "23\n",
    "345\n",
    "4567"
   ]
  },
  {
   "cell_type": "code",
   "execution_count": 19,
   "id": "856f4b55",
   "metadata": {},
   "outputs": [
    {
     "name": "stdout",
     "output_type": "stream",
     "text": [
      "4\n",
      "output:\n",
      "\n",
      "1\n",
      "23\n",
      "345\n",
      "4567\n"
     ]
    }
   ],
   "source": [
    "n = int(input())\n",
    "i = 1\n",
    "print(\"output:\")\n",
    "print()\n",
    "while i <= n:\n",
    "    j = 1\n",
    "    p = i\n",
    "    while j <= i:\n",
    "        print(p,end='')\n",
    "        j += 1\n",
    "        p += 1\n",
    "    print()\n",
    "    i += 1"
   ]
  },
  {
   "cell_type": "markdown",
   "id": "ea1274ca",
   "metadata": {},
   "source": [
    "1\n",
    "23\n",
    "456\n",
    "78910"
   ]
  },
  {
   "cell_type": "code",
   "execution_count": 21,
   "id": "2884e8e1",
   "metadata": {},
   "outputs": [
    {
     "name": "stdout",
     "output_type": "stream",
     "text": [
      "4\n",
      "output:\n",
      "\n",
      "1\n",
      "23\n",
      "456\n",
      "78910\n"
     ]
    }
   ],
   "source": [
    "n = int(input())\n",
    "i = 1\n",
    "p = 1\n",
    "print(\"output:\")\n",
    "print()\n",
    "while i <= n:\n",
    "    j = 1\n",
    "    while j <= i:\n",
    "        print(p,end='')\n",
    "        j += 1\n",
    "        p += 1\n",
    "    print()\n",
    "    i += 1"
   ]
  },
  {
   "cell_type": "markdown",
   "id": "f1471d76",
   "metadata": {},
   "source": [
    "## Character Patterns"
   ]
  },
  {
   "cell_type": "markdown",
   "id": "0e9661a3",
   "metadata": {},
   "source": [
    "ABCD\n",
    "ABCD\n",
    "ABCD\n",
    "ABCD"
   ]
  },
  {
   "cell_type": "code",
   "execution_count": 25,
   "id": "0680d0c5",
   "metadata": {},
   "outputs": [
    {
     "name": "stdout",
     "output_type": "stream",
     "text": [
      "4\n"
     ]
    },
    {
     "data": {
      "text/plain": [
       "'D'"
      ]
     },
     "execution_count": 25,
     "metadata": {},
     "output_type": "execute_result"
    }
   ],
   "source": [
    "k = int(input())\n",
    "x = ord('A')\n",
    "asciiTarget = x + k -1\n",
    "targetChar = chr(asciiTarget)\n",
    "targetChar"
   ]
  },
  {
   "cell_type": "code",
   "execution_count": 27,
   "id": "af9f9cf3",
   "metadata": {},
   "outputs": [
    {
     "name": "stdout",
     "output_type": "stream",
     "text": [
      "4\n",
      "output:\n",
      "\n",
      "ABCD\n",
      "ABCD\n",
      "ABCD\n",
      "ABCD\n"
     ]
    }
   ],
   "source": [
    "n = int(input())\n",
    "i = 1\n",
    "print(\"output:\")\n",
    "print()\n",
    "while i <= n:\n",
    "    j = 1\n",
    "    while j <= n:\n",
    "        charP = chr(ord('A') + j - 1)\n",
    "        print(charP,end='')\n",
    "        j += 1\n",
    "    print()\n",
    "    i += 1"
   ]
  },
  {
   "cell_type": "code",
   "execution_count": 28,
   "id": "bbd64fa4",
   "metadata": {},
   "outputs": [
    {
     "name": "stdout",
     "output_type": "stream",
     "text": [
      "4\n",
      "output:\n",
      "\n",
      "ABCD\n",
      "ABCD\n",
      "ABCD\n",
      "ABCD\n"
     ]
    }
   ],
   "source": [
    "n = int(input())\n",
    "i = 1\n",
    "print(\"output:\")\n",
    "print()\n",
    "while i <= n:\n",
    "    j = 1\n",
    "    startchar = chr(ord('A') + j - 1)\n",
    "    while j <= n:\n",
    "        charP = chr(ord(startchar) + j - 1)\n",
    "        print(charP,end='')\n",
    "        j += 1\n",
    "    print()\n",
    "    i += 1"
   ]
  },
  {
   "cell_type": "markdown",
   "id": "ec41e859",
   "metadata": {},
   "source": [
    "for n = 4\n",
    "A\n",
    "BC\n",
    "CDE\n",
    "DEFG"
   ]
  },
  {
   "cell_type": "code",
   "execution_count": 35,
   "id": "c6d5fbc8",
   "metadata": {},
   "outputs": [
    {
     "name": "stdout",
     "output_type": "stream",
     "text": [
      "4\n",
      "output:\n",
      "\n",
      "A\n",
      "BC\n",
      "CDE\n",
      "DEFG\n"
     ]
    }
   ],
   "source": [
    "n = int(input())\n",
    "print(\"output:\")\n",
    "print()\n",
    "for i in range(n):\n",
    "    k = ord(\"A\") + i\n",
    "    for j in range(i+1):\n",
    "        print(chr(k),end='')\n",
    "        k += 1\n",
    "    print()"
   ]
  },
  {
   "cell_type": "markdown",
   "id": "654baaf8",
   "metadata": {},
   "source": [
    "## Patterns 2"
   ]
  },
  {
   "cell_type": "markdown",
   "id": "096647c2",
   "metadata": {},
   "source": [
    "Inverted Triangle\n",
    "****\n",
    "***\n",
    "**\n",
    "*"
   ]
  },
  {
   "cell_type": "code",
   "execution_count": 1,
   "id": "69748026",
   "metadata": {},
   "outputs": [
    {
     "name": "stdout",
     "output_type": "stream",
     "text": [
      "6\n",
      "******\n",
      "*****\n",
      "****\n",
      "***\n",
      "**\n",
      "*\n"
     ]
    }
   ],
   "source": [
    "n = int(input())\n",
    "i=1\n",
    "while i <= n:\n",
    "    j = 1\n",
    "    while j <= n-i + 1:\n",
    "        print('*', end=\"\")\n",
    "        j+= 1\n",
    "    print()\n",
    "    i += 1"
   ]
  },
  {
   "cell_type": "markdown",
   "id": "cd10e280",
   "metadata": {},
   "source": [
    "   *\n",
    "  **\n",
    " ***\n",
    "****"
   ]
  },
  {
   "cell_type": "code",
   "execution_count": 5,
   "id": "59a7b587",
   "metadata": {},
   "outputs": [
    {
     "name": "stdout",
     "output_type": "stream",
     "text": [
      "4\n",
      "   *\n",
      "  **\n",
      " ***\n",
      "****\n"
     ]
    }
   ],
   "source": [
    "n = int(input())\n",
    "i=1\n",
    "while i <= n:\n",
    "    spaces = 1\n",
    "    while spaces <= n-i:\n",
    "        print(' ', end=\"\")\n",
    "        \n",
    "        spaces += 1\n",
    "    stars = 1\n",
    "    while stars <= i:\n",
    "        print('*', end=\"\")\n",
    "        stars += 1\n",
    "    print()\n",
    "    i += 1"
   ]
  },
  {
   "cell_type": "markdown",
   "id": "cf35a67e",
   "metadata": {},
   "source": [
    "Mirror Image\n",
    "*        *\n",
    "**      **\n",
    "***    ***\n",
    "****  ****"
   ]
  },
  {
   "cell_type": "markdown",
   "id": "8e48df46",
   "metadata": {},
   "source": [
    "NumPyramid\n",
    "   1\n",
    "  121\n",
    " 12321\n",
    "1234321"
   ]
  },
  {
   "cell_type": "raw",
   "id": "ed50ee93",
   "metadata": {},
   "source": [
    "   1\n",
    "  12\n",
    " 123\n",
    "1234"
   ]
  },
  {
   "cell_type": "code",
   "execution_count": 9,
   "id": "c827dcc7",
   "metadata": {},
   "outputs": [
    {
     "name": "stdout",
     "output_type": "stream",
     "text": [
      "4\n",
      "   1\n",
      "  12\n",
      " 123\n",
      "1234\n"
     ]
    }
   ],
   "source": [
    "n = int(input())\n",
    "i = 1 \n",
    "while i <= n:\n",
    "    s = 1\n",
    "    while s <= n - i:\n",
    "        print(' ', end='')\n",
    "        s = s + 1\n",
    "    p = 1\n",
    "    j = 1\n",
    "    while j <= i:\n",
    "        print(p,end='')\n",
    "        j = j + 1\n",
    "        p = p + 1\n",
    "    print()\n",
    "    i += 1 "
   ]
  },
  {
   "cell_type": "code",
   "execution_count": 10,
   "id": "e131542b",
   "metadata": {},
   "outputs": [
    {
     "name": "stdout",
     "output_type": "stream",
     "text": [
      "4\n",
      "   1\n",
      "  121\n",
      " 12321\n",
      "1234321\n"
     ]
    }
   ],
   "source": [
    "n = int(input())\n",
    "i = 1 \n",
    "while i <= n:\n",
    "    s = 1 #spaces\n",
    "    while s <= n - i:\n",
    "        print(' ', end='')\n",
    "        s = s + 1\n",
    "    p = 1\n",
    "    j = 1\n",
    "    \n",
    "    #increasing seq\n",
    "    while j <= i:\n",
    "        print(p,end='')\n",
    "        j = j + 1\n",
    "        p = p + 1\n",
    "        \n",
    "    #decreasing seq\n",
    "    p = i - 1\n",
    "    while p >= 1:\n",
    "        print(p,end='')\n",
    "        p = p - 1\n",
    "    print()\n",
    "    i = i + 1 "
   ]
  },
  {
   "cell_type": "code",
   "execution_count": null,
   "id": "59f5d907",
   "metadata": {},
   "outputs": [],
   "source": []
  }
 ],
 "metadata": {
  "kernelspec": {
   "display_name": "Python 3",
   "language": "python",
   "name": "python3"
  }
 },
 "nbformat": 4,
 "nbformat_minor": 5
}
